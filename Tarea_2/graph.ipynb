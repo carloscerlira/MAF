{
 "nbformat": 4,
 "nbformat_minor": 2,
 "metadata": {
  "language_info": {
   "name": "python",
   "codemirror_mode": {
    "name": "ipython",
    "version": 3
   },
   "version": "3.7.4-final"
  },
  "orig_nbformat": 2,
  "file_extension": ".py",
  "mimetype": "text/x-python",
  "name": "python",
  "npconvert_exporter": "python",
  "pygments_lexer": "ipython3",
  "version": 3,
  "kernelspec": {
   "name": "python3",
   "display_name": "Python 3"
  }
 },
 "cells": [
  {
   "cell_type": "code",
   "execution_count": 12,
   "metadata": {},
   "outputs": [],
   "source": [
    "import numpy as np\n",
    "import matplotlib \n",
    "import matplotlib.pyplot as plt\n",
    "import matplotlib.cm as cmx\n",
    "from mpl_toolkits.mplot3d import Axes3D\n",
    "%matplotlib qt"
   ]
  },
  {
   "cell_type": "code",
   "execution_count": 13,
   "metadata": {},
   "outputs": [],
   "source": [
    "sqrt = lambda x: np.sqrt(x)\n",
    "sin = lambda x: np.sin(x)\n",
    "sinh = lambda x: np.sinh(x)\n",
    "pi = np.pi "
   ]
  },
  {
   "cell_type": "code",
   "execution_count": 36,
   "metadata": {},
   "outputs": [
    {
     "output_type": "stream",
     "name": "stdout",
     "text": "2.7744744081328356\n"
    }
   ],
   "source": [
    "k=30; c=2; L=1; V=1;\n",
    "X = np.linspace(0,c,k)\n",
    "Y = np.linspace(0,c,k)\n",
    "Z = np.linspace(0,L,k)\n",
    "X, Y, Z = np.meshgrid(X, Y, Z)\n",
    "\n",
    "def temp(X,Y,Z):\n",
    "    total = 0\n",
    "    for n in range(0,100):\n",
    "        s_n = 0\n",
    "        for m in range(0,100):\n",
    "            k_n = pi*(n+1)/c\n",
    "            k_m = pi*(m+1)/c\n",
    "            k_nm = pi*sqrt((n+1)**2+(m+1)**2)/c\n",
    "            a_nm = 16*V/((n+1)*(m+1)*pi**2)*1/sinh(k_nm*L)\n",
    "            s_n += a_nm*sin(k_n*X)*sin(k_m*Y)*sinh(k_nm*Z)\n",
    "        total += s_n\n",
    "    return total\n",
    "#total = temp(X,Y,Z)\n",
    "print(temp(c/5, c/8, L))"
   ]
  },
  {
   "cell_type": "code",
   "execution_count": 15,
   "metadata": {},
   "outputs": [],
   "source": [
    "def scatter3d(x,y,z, cs, colorsMap='jet'):\n",
    "    cm = plt.get_cmap(colorsMap)\n",
    "    cNorm = matplotlib.colors.Normalize(vmin=min(cs), vmax=max(cs))\n",
    "    scalarMap = cmx.ScalarMappable(norm=cNorm, cmap=cm)\n",
    "    fig = plt.figure()\n",
    "    ax = Axes3D(fig)\n",
    "    ax.scatter(x, y, z, c=scalarMap.to_rgba(cs))\n",
    "    scalarMap.set_array(cs)\n",
    "    fig.colorbar(scalarMap)\n",
    "    plt.show()\n",
    "total = total.reshape(30*30*30,)\n",
    "scatter3d(X,Y,Z,total,'plasma')"
   ]
  },
  {
   "cell_type": "code",
   "execution_count": null,
   "metadata": {},
   "outputs": [],
   "source": []
  }
 ]
}